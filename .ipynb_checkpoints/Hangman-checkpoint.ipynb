{
 "cells": [
  {
   "cell_type": "markdown",
   "metadata": {},
   "source": [
    "**Create a Hangman Game**\n",
    "\n",
    "Click <a href=\"https://en.wikipedia.org/wiki/Hangman_(game)\" target=\"_blank\">here</a> to learn how to play, or to simply get a refresher for how the game works.\n",
    "\n",
    "Create an object-orient program that works exactly as the Wikipedia page suggests.\n",
    "\n",
    "Given, are all of the classes to build out the game. While extremely helpful, please note that this may be an ineffective method of building your program, because it hinders how one you would naturally build a program in your own way if they were left to figure it out for themselves.\n",
    "\n",
    "**How to build the program**\n",
    "* When you start the game, you will need to select a random word from a list of at least 10 words (You have full control over which words you want to use for you program). This will be your secret word. Your secret word will be represented in the program as a group of underscores. For as long as the word is, you should also have that many underscores. \n",
    "\n",
    "* Once the word is selected, your game will commence. Perform a Google search to figure out how to select a random word from a list using Python.<br>\n",
    "**Hint** There's package you can import into your application that does this for you.\n",
    "\n",
    "* The end user will have a total of 8 chances to guess the correct letter from the secret word. If the end user makes 8 incorrect guesses, the game will end.\n",
    "\n",
    "* As you guess the correct letters, the letters you have guess will then take place of the underscores that letter represents. <br>\n",
    "**For Example**: If your secret word is 'watermelon' and  so far you have guessed the letters 'a' and 'e', the word you're trying to guess will appear as follows: _ a _ e _ _ e _ _ _.<br>\n",
    "**Keep in mind** that if you guess a letter that appears more than once in your secret word, make sure that the letter is populated anywhere that letter would be."
   ]
  },
  {
   "cell_type": "code",
   "execution_count": 5,
   "metadata": {},
   "outputs": [
    {
     "ename": "SyntaxError",
     "evalue": "invalid syntax (<ipython-input-5-226e051877e8>, line 23)",
     "output_type": "error",
     "traceback": [
      "\u001b[1;36m  File \u001b[1;32m\"<ipython-input-5-226e051877e8>\"\u001b[1;36m, line \u001b[1;32m23\u001b[0m\n\u001b[1;33m    self.secret_word =\u001b[0m\n\u001b[1;37m                      ^\u001b[0m\n\u001b[1;31mSyntaxError\u001b[0m\u001b[1;31m:\u001b[0m invalid syntax\n"
     ]
    }
   ],
   "source": [
    "# Object-Oriented Programming Method\n",
    "\n",
    "import random\n",
    "#from IPython.display import clear_output\n",
    "\n",
    "#Create the Object for Hangman \n",
    "secret_word = [\"Chicago\",\"Prague\",\"Athens\",\"Bratislava\",\"Paris\",\"Miami\",\"London\",\"Michigan\",\"Berlin\",\"Amsterdam\"]\n",
    "print(\"The game just start, enjoy and HANG YOUR HANGMAN...!!! You have your 8 chances to win, guess the letters!!!\")\n",
    "\n",
    "\n",
    "word=random.choice(secret_word)\n",
    "print(word)\n",
    "guess = \"_ \" * len(word)\n",
    "    \n",
    "print(guess)\n",
    "\n",
    "\n",
    "class Hangman():\n",
    "    def __init__(self):\n",
    "        self.chances = 8\n",
    "        self.hidden_word = list()\n",
    "        self.correct_guesses = int()\n",
    "        self.secret_word =\n",
    "        \n",
    "    def start(self):\n",
    "        print(\"Welcome to Python Hangman\")\n",
    "        print(\"_\"*60)\n",
    "        self.hidden_word = random.choice(self.word_list)\n",
    "        self.word = ['_'] * len(self.hidden_word)\n",
    "        self.correct_guesses = \"\".join(self.word)count(\"_\")\n",
    "        self.instructions()\n",
    "        \n",
    "    def instruction(self):\n",
    "        print(\"\".join[i + \" \" for i in slef.word])\n",
    "        print(\"You have {} chances remaining... Guess Carefully...MUAHAAAAA\".format(self.chances))\n",
    "        \n",
    "    def ask(self):\n",
    "        letter = input(\"Guess a letter...\")\n",
    "        if letter.lower() == \"done\":\n",
    "            return False\n",
    "    elif letter.lower() not in self.hidden_word:\n",
    "        print(\"{} is incorrect. Please try again...\".format(letter))\n",
    "        self.chances -= 1\n",
    "    \n",
    "    else:\n",
    "        print(\"{} has been found!\".format(letter))\n",
    "        for index, l in enumerate(self.hidden_word):\n",
    "            self.word[index] = letter\n",
    "\n",
    "        self.correct_guess = \"\".join(self.word).count(\"_\")\n",
    "    return True \n",
    "    \n",
    "# Create main function here - This will run our program and create/instantiate our Hangman class\n",
    "\n",
    "def main():\n",
    "    game = Hangman()\n",
    "    \n",
    "    game.start()\n",
    "    \n",
    "    while True:\n",
    "        while True:\n",
    "            if gane.ask() == False:\n",
    "                break\n",
    "                if game.chances == 0:\n",
    "                    print(\"You lose. Please try again. And remember, the House always wins!\")\n",
    "                    \n",
    "main()\n",
    "\n"
   ]
  },
  {
   "cell_type": "code",
   "execution_count": null,
   "metadata": {},
   "outputs": [],
   "source": []
  },
  {
   "cell_type": "code",
   "execution_count": 6,
   "metadata": {},
   "outputs": [
    {
     "name": "stdout",
     "output_type": "stream",
     "text": [
      "['M', 'I', 'C', 'H', 'I', 'G', 'A', 'N']\n",
      "The topic is: City\n",
      "\n",
      "\n",
      "\n",
      "Please guess a letter:m\n"
     ]
    },
    {
     "ename": "IndexError",
     "evalue": "list assignment index out of range",
     "output_type": "error",
     "traceback": [
      "\u001b[1;31m---------------------------------------------------------------------------\u001b[0m",
      "\u001b[1;31mIndexError\u001b[0m                                Traceback (most recent call last)",
      "\u001b[1;32m<ipython-input-6-3db058a2f3cc>\u001b[0m in \u001b[0;36m<module>\u001b[1;34m\u001b[0m\n\u001b[0;32m     39\u001b[0m     \u001b[1;32mfor\u001b[0m \u001b[0mi\u001b[0m \u001b[1;32min\u001b[0m \u001b[0mrange\u001b[0m\u001b[1;33m(\u001b[0m\u001b[0mlen\u001b[0m\u001b[1;33m(\u001b[0m\u001b[0manswer\u001b[0m\u001b[1;33m)\u001b[0m\u001b[1;33m)\u001b[0m\u001b[1;33m:\u001b[0m\u001b[1;33m\u001b[0m\u001b[1;33m\u001b[0m\u001b[0m\n\u001b[0;32m     40\u001b[0m         \u001b[1;32mif\u001b[0m \u001b[0manswer\u001b[0m \u001b[1;33m[\u001b[0m\u001b[0mi\u001b[0m\u001b[1;33m]\u001b[0m \u001b[1;33m==\u001b[0m \u001b[0mguess\u001b[0m\u001b[1;33m:\u001b[0m\u001b[1;33m\u001b[0m\u001b[1;33m\u001b[0m\u001b[0m\n\u001b[1;32m---> 41\u001b[1;33m             \u001b[0mdisplay\u001b[0m\u001b[1;33m[\u001b[0m\u001b[0mi\u001b[0m\u001b[1;33m]\u001b[0m \u001b[1;33m=\u001b[0m \u001b[0mguess\u001b[0m\u001b[1;33m\u001b[0m\u001b[1;33m\u001b[0m\u001b[0m\n\u001b[0m\u001b[0;32m     42\u001b[0m             \u001b[0mcount\u001b[0m \u001b[1;33m+=\u001b[0m \u001b[1;36m1\u001b[0m\u001b[1;33m\u001b[0m\u001b[1;33m\u001b[0m\u001b[0m\n\u001b[0;32m     43\u001b[0m \u001b[1;33m\u001b[0m\u001b[0m\n",
      "\u001b[1;31mIndexError\u001b[0m: list assignment index out of range"
     ]
    }
   ],
   "source": [
    "import random\n",
    "\n",
    "possibleAnswers = [\"CHICAGO\",\"PRAGUE\",\"ATHENS\",\"BRATISLAVA\",\"PARIS\",\"MIAMI\",\"LONDON\",\"MICHIGAN\",\"BERLIN\",\"AMSTERDAM\"]\n",
    "\n",
    "#possibleAnswers =[\"Chicago\",\"Prague\",\"Athens\",\"Bratislava\",\"Paris\",\"Miami\",\"London\",\"Michigan\",\"Berlin\",\"Amsterdam\"]\n",
    "\n",
    "random.shuffle(possibleAnswers)\n",
    "\n",
    "answer = list(possibleAnswers[0])\n",
    "\n",
    "print(answer)\n",
    "\n",
    "\n",
    "\n",
    "display = []\n",
    "#display.extend(answer)\n",
    "\n",
    "#print(display.extend(answer))\n",
    "\n",
    "for i in range(len(display)):\n",
    "    display[i] = \"_ \"\n",
    "    \n",
    "print(\"The topic is: City\\n\")\n",
    "\n",
    "print (' '.join(display))\n",
    "print (\"\")\n",
    "\n",
    "\n",
    "count = 0 \n",
    "\n",
    "\n",
    "\n",
    "while count < len(answer):\n",
    "    \n",
    "    guess = input(\"Please guess a letter:\")\n",
    "    \n",
    "    guess = guess.upper()\n",
    "    \n",
    "    for i in range(len(answer)):\n",
    "        if answer [i] == guess:\n",
    "            display[i] = guess\n",
    "            count += 1\n",
    "            \n",
    "#print(' '.join(display))\n",
    "print(\"\\n\\n\\n\")\n",
    "\n",
    "print(\"Your Guessed It!!!\")\n",
    "\n",
    "print(' '.join(display))\n",
    "\n",
    "    \n",
    "    \n",
    "    "
   ]
  },
  {
   "cell_type": "code",
   "execution_count": null,
   "metadata": {},
   "outputs": [],
   "source": []
  },
  {
   "cell_type": "code",
   "execution_count": 7,
   "metadata": {},
   "outputs": [
    {
     "ename": "IndentationError",
     "evalue": "expected an indented block (<ipython-input-7-64c950df933c>, line 31)",
     "output_type": "error",
     "traceback": [
      "\u001b[1;36m  File \u001b[1;32m\"<ipython-input-7-64c950df933c>\"\u001b[1;36m, line \u001b[1;32m31\u001b[0m\n\u001b[1;33m    display[i] = \"_\"\u001b[0m\n\u001b[1;37m          ^\u001b[0m\n\u001b[1;31mIndentationError\u001b[0m\u001b[1;31m:\u001b[0m expected an indented block\n"
     ]
    }
   ],
   "source": [
    "import random\n",
    "\n",
    "answerlist = [\"CHICAGO\",\"PRAGUE\",\"ATHENS\",\"BRATISLAVA\",\"PARIS\",\"MIAMI\",\"LONDON\",\"MICHIGAN\",\"BERLIN\",\"AMSTERDAM\"]\n",
    "\n",
    "random.shuffle(answerlist)\n",
    "\n",
    "answer = list(answerlist[0])\n",
    "\n",
    "display = []\n",
    "\n",
    "display.extend(answer)\n",
    "\n",
    "print(display)\n",
    "\n",
    "\n",
    "\n",
    "count = 0\n",
    "\n",
    "while count > len(answer):\n",
    "    guess = input(\"Please guess a letter:\")\n",
    "    guess = guess.upper()\n",
    "    print (count)\n",
    "    \n",
    "    for i in range(len(answer)):\n",
    "        \n",
    "        if answer[i] == guess:  #and guess in used:\n",
    "            display[i] = guess\n",
    "            count = count + 1\n",
    "      \n",
    "    for i in range(len(display)):\n",
    "    display[i] = \"_\"\n",
    "    \n",
    "print(' '.join(display))\n",
    "print()\n",
    "           \n",
    "    \n",
    "\n",
    "print(\"This is what you get!!!\")\n"
   ]
  },
  {
   "cell_type": "code",
   "execution_count": null,
   "metadata": {},
   "outputs": [],
   "source": []
  },
  {
   "cell_type": "code",
   "execution_count": 3,
   "metadata": {},
   "outputs": [
    {
     "data": {
      "text/plain": [
       "True"
      ]
     },
     "execution_count": 3,
     "metadata": {},
     "output_type": "execute_result"
    }
   ],
   "source": [
    "def palindrome(word):\n",
    "    backwards = word[::-1]\n",
    "    if backwards == word:\n",
    "        return True\n",
    "    else:\n",
    "        return False \n",
    "    \n",
    "palindrome(\"anna\")\n"
   ]
  },
  {
   "cell_type": "code",
   "execution_count": null,
   "metadata": {},
   "outputs": [],
   "source": []
  }
 ],
 "metadata": {
  "kernelspec": {
   "display_name": "Python 3",
   "language": "python",
   "name": "python3"
  },
  "language_info": {
   "codemirror_mode": {
    "name": "ipython",
    "version": 3
   },
   "file_extension": ".py",
   "mimetype": "text/x-python",
   "name": "python",
   "nbconvert_exporter": "python",
   "pygments_lexer": "ipython3",
   "version": "3.7.3"
  }
 },
 "nbformat": 4,
 "nbformat_minor": 2
}
